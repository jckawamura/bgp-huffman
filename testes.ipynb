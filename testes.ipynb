{
 "cells": [
  {
   "cell_type": "code",
   "execution_count": null,
   "metadata": {
    "collapsed": true
   },
   "outputs": [],
   "source": [
    "import bz2\n",
    "\n",
    "src_file = \"sample.xml\"\n",
    "dst_file = \"sample.xml.bz2\"\n",
    "\n",
    "compress_level = 9\n",
    "with open(src_file, 'rb') as src:\n",
    "    #print src.read()\n",
    "    compressed_content = bz2.compress(src.read(), compress_level)\n",
    "    print \"JUPYTER NOTEBOOK\"\n",
    "    with open(dst_file, 'wb') as dst:\n",
    "        dst.write(compressed_content)\n"
   ]
  }
 ],
 "metadata": {
  "kernelspec": {
   "display_name": "Python 2",
   "language": "python",
   "name": "python2"
  },
  "language_info": {
   "codemirror_mode": {
    "name": "ipython",
    "version": 2
   },
   "file_extension": ".py",
   "mimetype": "text/x-python",
   "name": "python",
   "nbconvert_exporter": "python",
   "pygments_lexer": "ipython2",
   "version": "2.7.6"
  }
 },
 "nbformat": 4,
 "nbformat_minor": 0
}
